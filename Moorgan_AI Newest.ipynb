{
  "nbformat": 4,
  "nbformat_minor": 0,
  "metadata": {
    "colab": {
      "provenance": []
    },
    "kernelspec": {
      "name": "python3",
      "display_name": "Python 3"
    },
    "language_info": {
      "name": "python"
    }
  },
  "cells": [
    {
      "cell_type": "code",
      "execution_count": null,
      "metadata": {
        "colab": {
          "base_uri": "https://localhost:8080/"
        },
        "id": "SNotZqB-hQnO",
        "outputId": "dd2734d4-b0ae-42dc-c9e9-70a12506a992"
      },
      "outputs": [
        {
          "output_type": "stream",
          "name": "stdout",
          "text": [
            "Requirement already satisfied: scikit-learn in /usr/local/lib/python3.11/dist-packages (1.6.1)\n",
            "Collecting imblearn\n",
            "  Downloading imblearn-0.0-py2.py3-none-any.whl.metadata (355 bytes)\n",
            "Requirement already satisfied: numpy>=1.19.5 in /usr/local/lib/python3.11/dist-packages (from scikit-learn) (2.0.2)\n",
            "Requirement already satisfied: scipy>=1.6.0 in /usr/local/lib/python3.11/dist-packages (from scikit-learn) (1.15.3)\n",
            "Requirement already satisfied: joblib>=1.2.0 in /usr/local/lib/python3.11/dist-packages (from scikit-learn) (1.5.0)\n",
            "Requirement already satisfied: threadpoolctl>=3.1.0 in /usr/local/lib/python3.11/dist-packages (from scikit-learn) (3.6.0)\n",
            "Requirement already satisfied: imbalanced-learn in /usr/local/lib/python3.11/dist-packages (from imblearn) (0.13.0)\n",
            "Requirement already satisfied: sklearn-compat<1,>=0.1 in /usr/local/lib/python3.11/dist-packages (from imbalanced-learn->imblearn) (0.1.3)\n",
            "Downloading imblearn-0.0-py2.py3-none-any.whl (1.9 kB)\n",
            "Installing collected packages: imblearn\n",
            "Successfully installed imblearn-0.0\n"
          ]
        }
      ],
      "source": [
        "!pip install --upgrade scikit-learn imblearn"
      ]
    },
    {
      "cell_type": "code",
      "source": [
        "import pandas as pd\n",
        "import numpy as np\n",
        "import sklearn\n",
        "from sklearn.model_selection import train_test_split, GridSearchCV, cross_val_score\n",
        "from sklearn.preprocessing import StandardScaler, LabelEncoder\n",
        "from sklearn.tree import DecisionTreeClassifier\n",
        "from sklearn.metrics import classification_report, roc_auc_score\n",
        "import matplotlib.pyplot as plt\n",
        "import sys\n",
        "\n",
        "# Check scikit-learn version\n",
        "print(f\"scikit-learn version: {sklearn.__version__}\")\n",
        "\n",
        "# Load dataset with error handling\n",
        "try:\n",
        "    df = pd.read_excel('/cow_health_dataset.xlsx')  # Verify path is correct\n",
        "except FileNotFoundError:\n",
        "    print(\"Error: Dataset file not found. Please check the path (e.g., '/kaggle/input/cow-health-prediction/cow_health_dataset.xlsx').\")\n",
        "    sys.exit(1)\n",
        "\n",
        "# Handle missing values\n",
        "if df.isnull().sum().any():\n",
        "    print(\"Missing values detected. Filling with median for numeric columns...\")\n",
        "    df.fillna(df.median(numeric_only=True), inplace=True)\n",
        "\n",
        "# Encode target variable and Breed\n",
        "le_health = LabelEncoder()\n",
        "le_breed = LabelEncoder()\n",
        "try:\n",
        "    df['health_status_encoded'] = le_health.fit_transform(df['Health'])\n",
        "    df['Breed_encoded'] = le_breed.fit_transform(df['Breed'])\n",
        "except KeyError as e:\n",
        "    print(f\"Error: Column {e} not found in dataset.\")\n",
        "    sys.exit(1)\n",
        "\n",
        "# Feature selection\n",
        "features = ['Age', 'Breed_encoded', 'Heart_Rate', 'Body_Temperature', 'Respiratory_Rate']\n",
        "try:\n",
        "    X = df[features]\n",
        "except KeyError as e:\n",
        "    print(f\"Error: Feature {e} not found in dataset.\")\n",
        "    sys.exit(1)\n",
        "y = df['health_status_encoded']\n",
        "\n",
        "# Split data with stratification\n",
        "X_train, X_test, y_train, y_test = train_test_split(X, y, test_size=0.2, random_state=42, stratify=y)\n",
        "\n",
        "# Scale features\n",
        "scaler = StandardScaler()\n",
        "X_train_scaled = scaler.fit_transform(X_train)\n",
        "X_test_scaled = scaler.transform(X_test)\n",
        "\n",
        "# Hyperparameter tuning for Decision Tree\n",
        "dt_param_grid = {\n",
        "    'max_depth': [3, 5, 7, 10, None],\n",
        "    'min_samples_split': [2, 5, 10],\n",
        "    'min_samples_leaf': [1, 2, 4],\n",
        "    'criterion': ['gini', 'entropy']\n",
        "}\n",
        "dt_model = DecisionTreeClassifier(random_state=42, class_weight='balanced')\n",
        "grid_search_dt = GridSearchCV(dt_model, dt_param_grid, cv=5, scoring='f1_weighted', n_jobs=-1)\n",
        "grid_search_dt.fit(X_train_scaled, y_train)\n",
        "\n",
        "# Best Decision Tree model\n",
        "best_dt_model = grid_search_dt.best_estimator_\n",
        "print(\"Best Decision Tree Parameters:\", grid_search_dt.best_params_)\n",
        "\n",
        "# Evaluate Decision Tree\n",
        "y_pred_dt = best_dt_model.predict(X_test_scaled)\n",
        "print(\"\\nDecision Tree Classification Report:\\n\")\n",
        "print(classification_report(y_test, y_pred_dt, target_names=le_health.classes_))\n",
        "if len(le_health.classes_) == 2:\n",
        "    y_pred_proba_dt = best_dt_model.predict_proba(X_test_scaled)[:, 1]\n",
        "    print(\"Decision Tree ROC-AUC Score:\", roc_auc_score(y_test, y_pred_proba_dt))\n",
        "\n",
        "# Cross-validation score\n",
        "cv_scores_dt = cross_val_score(best_dt_model, X_train_scaled, y_train, cv=5, scoring='f1_weighted')\n",
        "print(\"\\nDecision Tree Cross-Validation F1-Weighted Scores:\", cv_scores_dt)\n",
        "print(\"Mean CV F1-Weighted Score:\", cv_scores_dt.mean())\n",
        "\n",
        "# Feature importance\n",
        "feature_importance = pd.DataFrame({\n",
        "    'Feature': features,\n",
        "    'Importance': best_dt_model.feature_importances_\n",
        "}).sort_values(by='Importance', ascending=False)\n",
        "print(\"\\nFeature Importance (Decision Tree):\\n\", feature_importance)\n",
        "\n",
        "# Visualize and save Decision Tree\n",
        "plt.figure(figsize=(12, 8))\n",
        "from sklearn.tree import plot_tree\n",
        "plot_tree(best_dt_model, filled=True, feature_names=features, class_names=le_health.classes_, rounded=True, fontsize=10)\n",
        "plt.title(\"Optimized Decision Tree for Cow Health Classification\")\n",
        "plt.savefig('decision_tree_cow_health.png')\n",
        "plt.close()\n",
        "\n",
        "# Function to predict cow health\n",
        "def predict_cow_health(data_point, model, scaler, feature_names, le_health, le_breed):\n",
        "    # Encode Breed if provided as string\n",
        "    if isinstance(data_point['Breed'], str):\n",
        "        data_point['Breed'] = le_breed.transform([data_point['Breed']])[0]\n",
        "    data_point_df = pd.DataFrame([data_point], columns=feature_names)\n",
        "    data_point_scaled = scaler.transform(data_point_df)\n",
        "    prediction = model.predict(data_point_scaled)\n",
        "    probability = model.predict_proba(data_point_scaled)\n",
        "    return le_health.inverse_transform(prediction)[0], probability[0]\n",
        "\n"
      ],
      "metadata": {
        "colab": {
          "base_uri": "https://localhost:8080/"
        },
        "id": "4NpSkGP0hRpr",
        "outputId": "e5a868b5-4586-40e3-8821-97c08edaf053"
      },
      "execution_count": null,
      "outputs": [
        {
          "output_type": "stream",
          "name": "stdout",
          "text": [
            "scikit-learn version: 1.6.1\n",
            "Best Decision Tree Parameters: {'criterion': 'gini', 'max_depth': None, 'min_samples_leaf': 1, 'min_samples_split': 2}\n",
            "\n",
            "Decision Tree Classification Report:\n",
            "\n",
            "              precision    recall  f1-score   support\n",
            "\n",
            "     Healthy       0.72      0.76      0.74        34\n",
            "   Unhealthy       0.95      0.94      0.95       166\n",
            "\n",
            "    accuracy                           0.91       200\n",
            "   macro avg       0.84      0.85      0.84       200\n",
            "weighted avg       0.91      0.91      0.91       200\n",
            "\n",
            "Decision Tree ROC-AUC Score: 0.8522324592487598\n",
            "\n",
            "Decision Tree Cross-Validation F1-Weighted Scores: [0.92383754 0.92255556 0.89845006 0.9375     0.92129565]\n",
            "Mean CV F1-Weighted Score: 0.9207277615276637\n",
            "\n",
            "Feature Importance (Decision Tree):\n",
            "             Feature  Importance\n",
            "3  Body_Temperature    0.361505\n",
            "4  Respiratory_Rate    0.332467\n",
            "2        Heart_Rate    0.249249\n",
            "0               Age    0.039692\n",
            "1     Breed_encoded    0.017088\n"
          ]
        }
      ]
    },
    {
      "cell_type": "code",
      "source": [
        "# Test predictions\n",
        "healthy_cow = {\n",
        "    'Age': 4,\n",
        "    'Breed': le_breed.transform(['Beef'])[0],  # Example breed\n",
        "    'Heart_Rate': 60,\n",
        "    'Body_Temperature': 102,\n",
        "    'Respiratory_Rate': 30\n",
        "}\n",
        "unhealthy_cow = {\n",
        "    'Age': 5,\n",
        "    'Breed': le_breed.transform(['Diary'])[0],  # Example breed\n",
        "    'Heart_Rate': 100,\n",
        "    'Body_Temperature': 103,\n",
        "    'Respiratory_Rate': 59\n",
        "}\n",
        "\n",
        "# Decision Tree predictions\n",
        "pred_healthy_dt, prob_healthy_dt = predict_cow_health(healthy_cow, best_dt_model, scaler, features, le_health, le_breed)\n",
        "print(f\"\\nDecision Tree Prediction for Healthy Cow: {pred_healthy_dt}\")\n",
        "print(f\"Probability: Healthy={prob_healthy_dt[0]:.2%}, Unhealthy={prob_healthy_dt[1]:.2%}\")\n",
        "\n",
        "pred_unhealthy_dt, prob_unhealthy_dt = predict_cow_health(unhealthy_cow, best_dt_model, scaler, features, le_health, le_breed)\n",
        "print(f\"\\nDecision Tree Prediction for Unhealthy Cow: {pred_unhealthy_dt}\")\n",
        "print(f\"Probability: Healthy={prob_unhealthy_dt[0]:.2%}, Unhealthy={prob_unhealthy_dt[1]:.2%}\")"
      ],
      "metadata": {
        "colab": {
          "base_uri": "https://localhost:8080/"
        },
        "id": "uukDzHB_kxtc",
        "outputId": "32ebb9a9-b7cc-42ec-bcf7-a92143f10927"
      },
      "execution_count": null,
      "outputs": [
        {
          "output_type": "stream",
          "name": "stdout",
          "text": [
            "\n",
            "Decision Tree Prediction for Healthy Cow: Healthy\n",
            "Probability: Healthy=100.00%, Unhealthy=0.00%\n",
            "\n",
            "Decision Tree Prediction for Unhealthy Cow: Healthy\n",
            "Probability: Healthy=100.00%, Unhealthy=0.00%\n"
          ]
        }
      ]
    },
    {
      "cell_type": "markdown",
      "source": [
        "# Random Forest"
      ],
      "metadata": {
        "id": "czPBjW-otVyE"
      }
    },
    {
      "cell_type": "code",
      "source": [
        "import pandas as pd\n",
        "import numpy as np\n",
        "from sklearn.model_selection import train_test_split\n",
        "from sklearn.ensemble import RandomForestClassifier\n",
        "from sklearn.preprocessing import LabelEncoder\n",
        "from sklearn.metrics import accuracy_score, classification_report\n",
        "import warnings\n",
        "warnings.filterwarnings('ignore')\n",
        "\n",
        "# Load and preprocess the dataset\n",
        "def load_and_preprocess_data(file_path):\n",
        "    # Read the dataset\n",
        "    df = pd.read_excel(file_path)\n",
        "\n",
        "    # Encode categorical variable 'Breed'\n",
        "    breed_le = LabelEncoder()\n",
        "    df['Breed_encoded'] = breed_le.fit_transform(df['Breed'])\n",
        "\n",
        "    # Encode the target variable 'Health'\n",
        "    health_le = LabelEncoder()\n",
        "    df['Health_encoded'] = health_le.fit_transform(df['Health'])\n",
        "\n",
        "    # Define features and target\n",
        "    X = df[['Age', 'Breed_encoded', 'Heart_Rate', 'Body_Temperature', 'Respiratory_Rate']]\n",
        "    y = df['Health_encoded']\n",
        "\n",
        "    return X, y, breed_le, health_le, df\n",
        "\n",
        "# Train the Random Forest model\n",
        "def train_model(X, y, health_le):\n",
        "    # Split the data\n",
        "    X_train, X_test, y_train, y_test = train_test_split(X, y, test_size=0.2, random_state=42)\n",
        "\n",
        "    # Initialize and train the model\n",
        "    model = RandomForestClassifier(n_estimators=100, random_state=42)\n",
        "    model.fit(X_train, y_train)\n",
        "\n",
        "    # Evaluate the model\n",
        "    y_pred = model.predict(X_test)\n",
        "    accuracy = accuracy_score(y_test, y_pred)\n",
        "    print(f\"Model Accuracy: {accuracy:.2f}\")\n",
        "    print(\"\\nClassification Report:\")\n",
        "    # Use numerical labels for y_test and y_pred, with decoded names for display\n",
        "    print(classification_report(y_test, y_pred, target_names=health_le.classes_))\n",
        "\n",
        "    return model\n",
        "\n",
        "# Function to predict health for new IoT data\n",
        "def predict_cow_health(model, breed_le, health_le, age, breed, heart_rate, body_temperature, respiratory_rate):\n",
        "    # Prepare input data\n",
        "    try:\n",
        "        breed_encoded = breed_le.transform([breed])[0]\n",
        "    except ValueError:\n",
        "        raise ValueError(f\"Breed '{breed}' not found in training data.\")\n",
        "\n",
        "    input_data = np.array([[age, breed_encoded, heart_rate, body_temperature, respiratory_rate]])\n",
        "\n",
        "    # Predict\n",
        "    prediction = model.predict(input_data)\n",
        "    health_status = health_le.inverse_transform(prediction)[0]\n",
        "\n",
        "    return health_status"
      ],
      "metadata": {
        "id": "CRJcCPOItYqu"
      },
      "execution_count": null,
      "outputs": []
    },
    {
      "cell_type": "code",
      "source": [
        "# Main execution\n",
        "if __name__ == \"__main__\":\n",
        "    # Example file path (replace with your actual CSV file path)\n",
        "    file_path = \"/cow_health_dataset.xlsx\"\n",
        "\n",
        "    try:\n",
        "        # Load and preprocess data\n",
        "        X, y, breed_le, health_le, df = load_and_preprocess_data(file_path)\n",
        "\n",
        "        # Print encoded values for inspection\n",
        "        print(\"Encoded Breed values:\")\n",
        "        print(dict(zip(df['Breed'], df['Breed_encoded'])))\n",
        "        print(\"\\nEncoded Health values:\")\n",
        "        print(dict(zip(df['Health'], df['Health_encoded'])))\n",
        "\n",
        "        # Train the model\n",
        "        model = train_model(X, y, health_le)\n",
        "\n",
        "        # Example prediction with IoT-like input\n",
        "        sample_data = {\n",
        "            'age': 5,\n",
        "            'breed': 'Diary',  # Must match a breed in the training data\n",
        "            'heart_rate': 54,\n",
        "            'body_temperature': 103,\n",
        "            'respiratory_rate': 25\n",
        "        }\n",
        "\n",
        "        health_status = predict_cow_health(\n",
        "            model,\n",
        "            breed_le,\n",
        "            health_le,\n",
        "            sample_data['age'],\n",
        "            sample_data['breed'],\n",
        "            sample_data['heart_rate'],\n",
        "            sample_data['body_temperature'],\n",
        "            sample_data['respiratory_rate']\n",
        "        )\n",
        "        print(f\"\\nPredicted Health Status for cow (Age: {sample_data['age']}, Breed: {sample_data['breed']}): {health_status}\")\n",
        "\n",
        "    except FileNotFoundError:\n",
        "        print(f\"Error: File '{file_path}' not found. Please provide a valid CSV file with columns: Age, Breed, Heart_Rate, Body_Temperature, Respiratory_Rate, Health.\")\n",
        "    except Exception as e:\n",
        "        print(f\"An error occurred: {str(e)}\")"
      ],
      "metadata": {
        "colab": {
          "base_uri": "https://localhost:8080/"
        },
        "id": "UDQDinaGd92l",
        "outputId": "2ec72090-1e1f-4a11-fbbd-17d7c343c014"
      },
      "execution_count": null,
      "outputs": [
        {
          "output_type": "stream",
          "name": "stdout",
          "text": [
            "Error: File '/cow_health_dataset.xlsx' not found. Please provide a valid CSV file with columns: Age, Breed, Heart_Rate, Body_Temperature, Respiratory_Rate, Health.\n"
          ]
        }
      ]
    }
  ]
}